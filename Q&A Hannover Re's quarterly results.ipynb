{
 "cells": [
  {
   "cell_type": "markdown",
   "id": "43263395",
   "metadata": {},
   "source": [
    "# Q&A Hannover Re's quarterly result\n",
    "\n",
    "In this workbook, we construct a simple agent to answer question regarding Hannover Re's quarterly result. We will define 2 llms inside a LangGraph. The first one is gemini-2.5-flash which is going to extract the answer, and gemini-2.0-flash is the 2nd one to bring the answers in a structured format."
   ]
  },
  {
   "cell_type": "code",
   "execution_count": null,
   "id": "1f7b5e77",
   "metadata": {},
   "outputs": [],
   "source": [
    "%%capture\n",
    "%pip install langchain-community langchain_google_genai langgraph"
   ]
  },
  {
   "cell_type": "code",
   "execution_count": 2,
   "id": "d3775b8c",
   "metadata": {},
   "outputs": [],
   "source": [
    "import os\n",
    "import google.generativeai as genai\n",
    "from langchain_google_genai import ChatGoogleGenerativeAI\n",
    "\n",
    "api_key = os.environ.get(\"GOOGLE_API_KEY\")\n",
    "genai.configure(api_key=api_key)\n",
    "\n",
    "os.environ[\"GOOGLE_API_KEY\"] = api_key\n",
    "llm = ChatGoogleGenerativeAI(model=\"gemini-2.5-flash\", temperature = 0)\n",
    "llm_to_summarize = ChatGoogleGenerativeAI(model = \"gemini-2.0-flash\", temperature = 0.2)"
   ]
  },
  {
   "cell_type": "markdown",
   "id": "fbeace4e",
   "metadata": {},
   "source": [
    "## Load the 2025Q1 quarterly results presentation \n",
    "\n",
    "The presentation available online via https://assets.hannover-re.com/asset/533267266226/document_ccm2p880911ul0kum1pracq67k/ConCall_May2025.pdf?content-disposition=inline"
   ]
  },
  {
   "cell_type": "code",
   "execution_count": 3,
   "id": "74d2760e",
   "metadata": {},
   "outputs": [],
   "source": [
    "from langchain.document_loaders import PyPDFLoader\n",
    "\n",
    "pdf_path = \"ConCall_May2025.pdf\" \n",
    "loader = PyPDFLoader(pdf_path) # PyPDF load the documents pagewise\n",
    "documents = loader.load()"
   ]
  },
  {
   "cell_type": "code",
   "execution_count": 4,
   "id": "02a17f5a",
   "metadata": {},
   "outputs": [
    {
     "name": "stdout",
     "output_type": "stream",
     "text": [
      "Increase in CSM and RA based on successful new business generation\n",
      "Shareholders' equity increased by 2.4%\n",
      "Conference Call on Q1/2025 financial results\n",
      "Change in shareholders' equity Contractual Service Margin (CSM) and Risk Adjustment (RA)\n",
      "Figures in EUR m. unless otherwise stated \n",
      "|  1  Group overview |  2  |  3  |  4  |  5  |  6  |\n",
      "5\n",
      "11,794 480 \n",
      "-96 \n",
      "317 \n",
      "-414 \n",
      "12,082 \n",
      "Shareholders'\n",
      "equity\n",
      "31.12.2024\n",
      "Group Net\n",
      "income\n",
      "Change in\n",
      "OCI\n",
      "Reinsurance\n",
      "Liabilities\n",
      "Change in\n",
      "OCI\n",
      "Investments\n",
      "Currency\n",
      "translation\n",
      "and other\n",
      "Shareholders'\n",
      "equity\n",
      "31.03.2025\n",
      "1,646 2,401\n",
      "6,517\n",
      "6,448\n",
      "987\n",
      "1,083\n",
      "3,017\n",
      "3,052\n",
      "12,166\n",
      "12,984\n",
      "31/12/2024 31/03/2025\n",
      "CSM P&C\n",
      "RA P&C\n",
      "RA L&H\n",
      "CSM L&H\n",
      "CSM\n",
      "+8.4%\n",
      "Total\n",
      "+6.7%\n",
      "RA\n",
      "+3.3%\n"
     ]
    }
   ],
   "source": [
    "print(documents[4].page_content)"
   ]
  },
  {
   "cell_type": "markdown",
   "id": "35c30ab3",
   "metadata": {},
   "source": [
    "## Construct the Graph"
   ]
  },
  {
   "cell_type": "code",
   "execution_count": 5,
   "id": "3dd1e2ba",
   "metadata": {},
   "outputs": [],
   "source": [
    "from langchain_core.prompts import ChatPromptTemplate\n",
    "from langchain_core.output_parsers import StrOutputParser\n",
    "\n",
    "template = ChatPromptTemplate.from_messages([ # Chat template for the first llm\n",
    "    (\"system\", \n",
    "\"\"\"You are a financial expert answering question about Hannover Re's financial statement.\n",
    "The documents about the current quarterly results are {quarterly_result}.\n",
    "You always answer precise and short. If you don't know the answer, just say I don't know. Don't try to make up an answer.\"\"\"\n",
    "    ),\n",
    "    (\"placeholder\", \"{messages}\"\n",
    "    )\n",
    "])\n",
    "\n",
    "analyst_llm = template | llm"
   ]
  },
  {
   "cell_type": "code",
   "execution_count": 6,
   "id": "bfe3b3e2",
   "metadata": {},
   "outputs": [
    {
     "data": {
      "text/plain": [
       "'The provided document has 29 pages.'"
      ]
     },
     "execution_count": 6,
     "metadata": {},
     "output_type": "execute_result"
    }
   ],
   "source": [
    "(analyst_llm | StrOutputParser()).invoke({\"messages\" : [(\"user\", \"How many pages does the provided documents have?\")], \"quarterly_result\" : documents})"
   ]
  },
  {
   "cell_type": "code",
   "execution_count": 7,
   "id": "a5ed598f",
   "metadata": {},
   "outputs": [],
   "source": [
    "from pydantic import BaseModel, Field\n",
    "from typing import TypedDict, List, Annotated\n",
    "\n",
    "class Results(BaseModel): # class for the summarizer llm_for_summarizing\n",
    "    list_answers : List[str] = Field(\"List of answers to every question.\")\n",
    "\n",
    "    \n",
    "class Graph(TypedDict): # define the graph\n",
    "    input : List[str]\n",
    "    answers : List[str]\n",
    "    final : Results"
   ]
  },
  {
   "cell_type": "markdown",
   "id": "058a41ac",
   "metadata": {},
   "source": [
    "This will define the first node for question answering."
   ]
  },
  {
   "cell_type": "code",
   "execution_count": 8,
   "id": "bf79071f",
   "metadata": {},
   "outputs": [],
   "source": [
    "def question_answering(state: Graph) -> Graph:\n",
    "    answers = []\n",
    "    for i in state[\"input\"]:\n",
    "        output = analyst_llm.invoke({\"messages\" : [(\"user\", i)], \"quarterly_result\" : documents}) # fix the quarterly result document. Can be made variable easily\n",
    "        answers.append(output.content)\n",
    "    return {\"answers\" : answers}"
   ]
  },
  {
   "cell_type": "code",
   "execution_count": 9,
   "id": "8366237a",
   "metadata": {},
   "outputs": [],
   "source": [
    "template_summarize = ChatPromptTemplate.from_template( # chat template for llm_for_summarizing\n",
    "\"\"\"\n",
    "You are provided with questions and answers. Your task is to summarize the answers in a structured format.\n",
    "Do not add any additional information or answers. \n",
    "\n",
    "{q_and_a}\n",
    "\n",
    "**Important**:\n",
    "- The output must contain exactly {num_items} items.\n",
    "- Only retain the very main information. If numbers answer the question, do not output anything else.\n",
    "\"\"\"\n",
    ")\n",
    "\n",
    "summarizer = template_summarize | llm_to_summarize.with_structured_output(Results)"
   ]
  },
  {
   "cell_type": "markdown",
   "id": "73451353",
   "metadata": {},
   "source": [
    "2nd node for summarizing the results"
   ]
  },
  {
   "cell_type": "code",
   "execution_count": 10,
   "id": "054c88cf",
   "metadata": {},
   "outputs": [],
   "source": [
    "def summarize_response(state: Graph) -> Graph:\n",
    "    q_and_a = [\n",
    "    f\"Q{i+1}: {q}\\nA{i+1}: {a}\" for i, (q, a) in enumerate(zip(state[\"input\"], state[\"answers\"]))\n",
    "    ]\n",
    "    q_and_a = \"\\n\\n\".join(q_and_a)\n",
    "    return {\"final\" : summarizer.invoke({\"q_and_a\" : q_and_a, \"num_items\" : len(state[\"input\"])})}"
   ]
  },
  {
   "cell_type": "code",
   "execution_count": 11,
   "id": "46e5c017",
   "metadata": {},
   "outputs": [],
   "source": [
    "from langgraph.graph import StateGraph, START\n",
    "\n",
    "builder = StateGraph(Graph)\n",
    "\n",
    "builder.add_node(\"answer\", question_answering)\n",
    "builder.add_node(\"summarize\", summarize_response)\n",
    "\n",
    "builder.add_edge(START, \"answer\")\n",
    "builder.add_edge(\"answer\",\"summarize\")\n",
    "\n",
    "\n",
    "graph = builder.compile()"
   ]
  },
  {
   "cell_type": "code",
   "execution_count": 12,
   "id": "5d0b50a2",
   "metadata": {},
   "outputs": [
    {
     "data": {
      "image/png": "[encoded data removed]",
      "text/plain": [
       "<IPython.core.display.Image object>"
      ]
     },
     "metadata": {},
     "output_type": "display_data"
    }
   ],
   "source": [
    "from IPython.display import Image, display\n",
    "\n",
    "display(Image(graph.get_graph(xray=True).draw_mermaid_png()))"
   ]
  },
  {
   "cell_type": "markdown",
   "id": "49b08b67",
   "metadata": {},
   "source": [
    "Define a couple different question: questions is about the Hannover Re group, questions_lh is about the life and health business aund questions_pc the property and casualty business. The hardest questions are likely questions[1], which is a word inside a graphic, and questions_pc[1], where the model has to do multiple steps in a row: first find the 2022 reservce, then the 2024 reserves and finally subtract them.\n",
    "\n",
    "sols provides the solutions for testing."
   ]
  },
  {
   "cell_type": "code",
   "execution_count": 18,
   "id": "7f6c5d75",
   "metadata": {},
   "outputs": [],
   "source": [
    "questions = [\"The increase in CSM and risk adjustment in Q1/2025 (in %, compared to year-end 2024).\",\n",
    "            \"Which asset class contributed the most to ordinary (investment) income in Q1/2025.\",\n",
    "            \"The currency result in Q1/2025 (in EUR million).\"]\n",
    "\n",
    "questions_lh = [\"The main drivers for the decrease in reinsurance revenue in Q1/2025.\",\n",
    "                \"The main drivers for the new business generation in Q1/2025.\"]\n",
    "\n",
    "questions_pc = [\"The net impact from large lossesn Q1/2025 as percentage of the net large-loss budget for the full year 2025 (in %).\",\n",
    "               \"The increase in resilience reserves since year-end 2022 (in EUR million, until year-end 2024).\"]\n",
    "\n",
    "sols = [\"CSM +8.4%, RA +3.3%\", \"Corporates\", \"66m\", \"36%\", \"1,145m\", \"mainly driven by US mortality\", \"diversified contribution from Financial solutions, Morbidity and mortality\"]"
   ]
  },
  {
   "cell_type": "code",
   "execution_count": 19,
   "id": "df093dc4",
   "metadata": {},
   "outputs": [],
   "source": [
    "list_of_questions = ([\"These questions are general questions about the document: \" + question for question in questions] \n",
    "+ [\"These questions are about Life and Health business: \" + question for question in questions_lh]\n",
    "+ [\"These questions are about Property and Casualty business:  \" + question for question in questions_pc] \n",
    ")"
   ]
  },
  {
   "cell_type": "code",
   "execution_count": 20,
   "id": "eb4b0d70",
   "metadata": {},
   "outputs": [
    {
     "data": {
      "text/plain": [
       "['CSM increased by 8.4%, RA increased by 3.3%.',\n",
       " 'Corporates (33%)',\n",
       " 'EUR 66 million',\n",
       " 'US mortality',\n",
       " 'Financial Solutions, Morbidity, and Mortality business',\n",
       " '36.4%',\n",
       " 'EUR 1,145 million']"
      ]
     },
     "execution_count": 20,
     "metadata": {},
     "output_type": "execute_result"
    }
   ],
   "source": [
    "graph.invoke({\"input\" : list_of_questions})[\"final\"].list_answers"
   ]
  },
  {
   "cell_type": "markdown",
   "id": "98da4f60",
   "metadata": {},
   "source": [
    "The answers are all correct!"
   ]
  },
  {
   "cell_type": "markdown",
   "id": "c416d649",
   "metadata": {},
   "source": [
    "A follow up on this would be to provide the llm with tools like duck duck go or tavily so it find the analyst presentation itself, instead of directly providing it."
   ]
  }
 ],
 "metadata": {
  "kernelspec": {
   "display_name": "base",
   "language": "python",
   "name": "python3"
  },
  "language_info": {
   "codemirror_mode": {
    "name": "ipython",
    "version": 3
   },
   "file_extension": ".py",
   "mimetype": "text/x-python",
   "name": "python",
   "nbconvert_exporter": "python",
   "pygments_lexer": "ipython3",
   "version": "3.12.7"
  }
 },
 "nbformat": 4,
 "nbformat_minor": 5
}
